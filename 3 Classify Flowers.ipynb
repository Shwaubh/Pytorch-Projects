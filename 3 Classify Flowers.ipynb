{
 "cells": [
  {
   "cell_type": "markdown",
   "id": "06d3cd12-b940-4c25-b78b-bbf14bb646f9",
   "metadata": {},
   "source": [
    "# 🌸 Project #3: Classify Flowers with AI (Iris Dataset)\n",
    "\n",
    "Welcome to another fun PyTorch mini-project!\n",
    "\n",
    "In this notebook, we'll teach an AI model how to **identify types of Iris flowers** based on measurements. This is a **multi-class classification** problem where the model must classify the input into one of three flower species:\n",
    "\n",
    "- Setosa\n",
    "- Versicolor\n",
    "- Virginica\n",
    "\n",
    "We'll do it step-by-step:\n",
    "- 💡 Concept explained like a story\n",
    "- 📦 Code with best practices\n",
    "- 🖼️ Visuals like graphs and heatmaps\n",
    "- 🔍 Evaluation: accuracy, confusion matrix\n",
    "- ✅ Quiz & takeaways\n"
   ]
  },
  {
   "cell_type": "markdown",
   "id": "a05091af-0512-411f-aaef-2a1e128e8648",
   "metadata": {},
   "source": [
    "-------------\n",
    "Imagine you're a robot working in a flower shop. You're given some measurements of a flower:\n",
    "- Sepal length and width\n",
    "- Petal length and width\n",
    "\n",
    "Your task is to **predict the species of the flower**.\n",
    "\n",
    "But how? 🤔\n",
    "You'll learn it from examples! That’s machine learning.\n",
    "\n",
    "We'll use the famous **Iris Dataset** for this task — it's like \"Hello World\" for classification problems.\n"
   ]
  },
  {
   "cell_type": "markdown",
   "id": "78c78d9e-ad3c-4c44-ba86-106a47581265",
   "metadata": {},
   "source": [
    "### Install Jupyter Notebook\n",
    "pip install notebook\n",
    "\n",
    "### Open Notebook\n",
    "python3 -m notebook\n",
    "\n",
    "### Install Libraries\n",
    "!pip install numpy pandas torch scikit-learn matplotlib seaborn"
   ]
  },
  {
   "cell_type": "code",
   "execution_count": 95,
   "id": "1be131d1-108b-4289-9e27-c26a943554cf",
   "metadata": {},
   "outputs": [],
   "source": [
    "# Importing Libraries\n",
    "import pandas as pd\n",
    "\n",
    "import torch\n",
    "import torch.nn as nn\n",
    "import torch.optim as optim\n",
    "\n",
    "from sklearn.datasets import load_iris\n",
    "from sklearn.preprocessing import StandardScaler\n",
    "from sklearn.model_selection import train_test_split\n",
    "from sklearn.metrics import classification_report\n",
    "\n",
    "import matplotlib.pyplot as plt\n",
    "import seaborn as sns"
   ]
  },
  {
   "cell_type": "code",
   "execution_count": 38,
   "id": "9d59d8ca-d585-4a4d-9d09-0ed60f5eca3d",
   "metadata": {},
   "outputs": [
    {
     "data": {
      "text/plain": [
       "array(['setosa', 'versicolor', 'virginica'], dtype='<U10')"
      ]
     },
     "execution_count": 38,
     "metadata": {},
     "output_type": "execute_result"
    }
   ],
   "source": [
    "iris = load_iris()\n",
    "X = iris.data\n",
    "y = iris.target\n",
    "\n",
    "X.shape\n",
    "y.shape\n",
    "\n",
    "iris.target_names"
   ]
  },
  {
   "cell_type": "code",
   "execution_count": 44,
   "id": "3f0b912e-184e-4cef-b7bf-2264f759e4b5",
   "metadata": {},
   "outputs": [
    {
     "data": {
      "text/html": [
       "<div>\n",
       "<style scoped>\n",
       "    .dataframe tbody tr th:only-of-type {\n",
       "        vertical-align: middle;\n",
       "    }\n",
       "\n",
       "    .dataframe tbody tr th {\n",
       "        vertical-align: top;\n",
       "    }\n",
       "\n",
       "    .dataframe thead th {\n",
       "        text-align: right;\n",
       "    }\n",
       "</style>\n",
       "<table border=\"1\" class=\"dataframe\">\n",
       "  <thead>\n",
       "    <tr style=\"text-align: right;\">\n",
       "      <th></th>\n",
       "      <th>0</th>\n",
       "      <th>1</th>\n",
       "      <th>2</th>\n",
       "      <th>3</th>\n",
       "    </tr>\n",
       "  </thead>\n",
       "  <tbody>\n",
       "    <tr>\n",
       "      <th>0</th>\n",
       "      <td>-0.900681</td>\n",
       "      <td>1.019004</td>\n",
       "      <td>-1.340227</td>\n",
       "      <td>-1.315444</td>\n",
       "    </tr>\n",
       "    <tr>\n",
       "      <th>1</th>\n",
       "      <td>-1.143017</td>\n",
       "      <td>-0.131979</td>\n",
       "      <td>-1.340227</td>\n",
       "      <td>-1.315444</td>\n",
       "    </tr>\n",
       "    <tr>\n",
       "      <th>2</th>\n",
       "      <td>-1.385353</td>\n",
       "      <td>0.328414</td>\n",
       "      <td>-1.397064</td>\n",
       "      <td>-1.315444</td>\n",
       "    </tr>\n",
       "    <tr>\n",
       "      <th>3</th>\n",
       "      <td>-1.506521</td>\n",
       "      <td>0.098217</td>\n",
       "      <td>-1.283389</td>\n",
       "      <td>-1.315444</td>\n",
       "    </tr>\n",
       "    <tr>\n",
       "      <th>4</th>\n",
       "      <td>-1.021849</td>\n",
       "      <td>1.249201</td>\n",
       "      <td>-1.340227</td>\n",
       "      <td>-1.315444</td>\n",
       "    </tr>\n",
       "  </tbody>\n",
       "</table>\n",
       "</div>"
      ],
      "text/plain": [
       "          0         1         2         3\n",
       "0 -0.900681  1.019004 -1.340227 -1.315444\n",
       "1 -1.143017 -0.131979 -1.340227 -1.315444\n",
       "2 -1.385353  0.328414 -1.397064 -1.315444\n",
       "3 -1.506521  0.098217 -1.283389 -1.315444\n",
       "4 -1.021849  1.249201 -1.340227 -1.315444"
      ]
     },
     "execution_count": 44,
     "metadata": {},
     "output_type": "execute_result"
    }
   ],
   "source": [
    "df = pd.DataFrame(X)\n",
    "tg = pd.Series(y)\n",
    "\n",
    "tg.value_counts()\n",
    "df.head()"
   ]
  },
  {
   "cell_type": "code",
   "execution_count": 42,
   "id": "f85eb491-4718-4332-a5e4-64f3479eefc6",
   "metadata": {},
   "outputs": [],
   "source": [
    "scaler = StandardScaler()\n",
    "X = scaler.fit_transform(X)"
   ]
  },
  {
   "cell_type": "code",
   "execution_count": 76,
   "id": "97f3b8ae-1bb3-4c8d-b308-26e579b06435",
   "metadata": {},
   "outputs": [],
   "source": [
    "X_train, X_test, y_train, y_test = train_test_split(X, y, test_size = 0.2, random_state = 42)"
   ]
  },
  {
   "cell_type": "code",
   "execution_count": 77,
   "id": "1d38a3b2-c922-42a9-91b5-9a3b662a446a",
   "metadata": {},
   "outputs": [],
   "source": [
    "X_train = torch.tensor(X_train, dtype=torch.float32)\n",
    "X_test = torch.tensor(X_test, dtype=torch.float32)\n",
    "y_train = torch.tensor(y_train, dtype=torch.long)\n",
    "y_test = torch.tensor(y_test, dtype=torch.long)\n"
   ]
  },
  {
   "cell_type": "code",
   "execution_count": 80,
   "id": "c9bf5ef4-812c-461d-a759-fec9e968549e",
   "metadata": {},
   "outputs": [],
   "source": [
    "class IrisNet(nn.Module):\n",
    "    \n",
    "    def __init__(self):\n",
    "        super(IrisNet, self).__init__()\n",
    "        self.fc = nn.Linear(4, 3)\n",
    "\n",
    "    def forward(self, x):\n",
    "        return self.fc(x)\n",
    "\n",
    "model = IrisNet()"
   ]
  },
  {
   "cell_type": "code",
   "execution_count": 81,
   "id": "c22f24e5-1ba3-407d-bf39-aef6e9fcf4af",
   "metadata": {},
   "outputs": [],
   "source": [
    "criterion = nn.CrossEntropyLoss()\n",
    "optimzer = optim.Adam(model.parameters(), lr = 0.01)"
   ]
  },
  {
   "cell_type": "code",
   "execution_count": 83,
   "id": "e27e9342-0004-46c5-92d6-b10fcd36e2a4",
   "metadata": {},
   "outputs": [
    {
     "name": "stdout",
     "output_type": "stream",
     "text": [
      "Epoch 0 Loss = 0.450748085975647\n",
      "Epoch 100 Loss = 0.3312733471393585\n",
      "Epoch 200 Loss = 0.2657057046890259\n",
      "Epoch 300 Loss = 0.22053398191928864\n",
      "Epoch 400 Loss = 0.18822798132896423\n",
      "Epoch 500 Loss = 0.16440807282924652\n",
      "Epoch 600 Loss = 0.14632390439510345\n",
      "Epoch 700 Loss = 0.13223592936992645\n",
      "Epoch 800 Loss = 0.12101743370294571\n",
      "Epoch 900 Loss = 0.11191584169864655\n"
     ]
    }
   ],
   "source": [
    "epochs = 1000\n",
    "losses = []\n",
    "\n",
    "for epoch in range(epochs):\n",
    "    optimzer.zero_grad()\n",
    "    outputs = model(X_train)\n",
    "    loss = criterion(outputs, y_train)\n",
    "    loss.backward()\n",
    "    optimzer.step()\n",
    "    losses.append(loss.item())\n",
    "    if epoch % 100 == 0:\n",
    "        print(f\"Epoch {epoch} Loss = {loss.item()}\")\n",
    "    "
   ]
  },
  {
   "cell_type": "code",
   "execution_count": 86,
   "id": "1de2c7b5-b715-4a46-8516-737ca17bb9a1",
   "metadata": {},
   "outputs": [
    {
     "data": {
      "image/png": "[encoded data removed]",
      "text/plain": [
       "<Figure size 640x480 with 1 Axes>"
      ]
     },
     "metadata": {},
     "output_type": "display_data"
    }
   ],
   "source": [
    "plt.plot(losses)\n",
    "plt.title(\"Training Loss Curve\")\n",
    "plt.xlabel(\"Training Number\")\n",
    "plt.ylabel(\"Loss\")\n",
    "plt.grid(True)\n",
    "plt.show()"
   ]
  },
  {
   "cell_type": "code",
   "execution_count": 93,
   "id": "335c3d3d-fedd-48ef-8208-6d77fdf50e30",
   "metadata": {},
   "outputs": [
    {
     "name": "stdout",
     "output_type": "stream",
     "text": [
      "              precision    recall  f1-score   support\n",
      "\n",
      "      setosa       1.00      1.00      1.00        10\n",
      "  versicolor       1.00      1.00      1.00         9\n",
      "   virginica       1.00      1.00      1.00        11\n",
      "\n",
      "    accuracy                           1.00        30\n",
      "   macro avg       1.00      1.00      1.00        30\n",
      "weighted avg       1.00      1.00      1.00        30\n",
      "\n"
     ]
    }
   ],
   "source": [
    "with torch.no_grad():\n",
    "    preds = model(X_test)\n",
    "    preds = torch.argmax(preds, dim=1)\n",
    "    print(classification_report(y_test, preds, target_names=iris.target_names))"
   ]
  },
  {
   "cell_type": "code",
   "execution_count": 97,
   "id": "111b43c4-c93c-499c-8306-ceeec2ba49cf",
   "metadata": {},
   "outputs": [
    {
     "name": "stdout",
     "output_type": "stream",
     "text": [
      "[[-1.6506865  1.6517401 -2.3535075 -2.4311116]\n",
      " [ 1.8997396 -0.7677099 -1.0375502 -2.192994 ]\n",
      " [ 1.5569124 -1.8192588  2.4327426  2.3289948]]\n"
     ]
    },
    {
     "data": {
      "image/png": "[encoded data removed]",
      "text/plain": [
       "<Figure size 600x300 with 2 Axes>"
      ]
     },
     "metadata": {},
     "output_type": "display_data"
    }
   ],
   "source": [
    "weights = model.fc.weight.data.numpy()\n",
    "print(weights)\n",
    "plt.figure(figsize=(6, 3))\n",
    "sns.heatmap(weights, annot=True, cmap=\"coolwarm\", xticklabels=iris.feature_names, yticklabels=iris.target_names)\n",
    "plt.title(\"Linear Layer Weights (Feature Importance) \")\n",
    "plt.show()"
   ]
  },
  {
   "cell_type": "code",
   "execution_count": null,
   "id": "86f0ab5b-dbc5-4078-9b21-f0b3a807b48d",
   "metadata": {},
   "outputs": [],
   "source": []
  }
 ],
 "metadata": {
  "kernelspec": {
   "display_name": "Python 3 (ipykernel)",
   "language": "python",
   "name": "python3"
  },
  "language_info": {
   "codemirror_mode": {
    "name": "ipython",
    "version": 3
   },
   "file_extension": ".py",
   "mimetype": "text/x-python",
   "name": "python",
   "nbconvert_exporter": "python",
   "pygments_lexer": "ipython3",
   "version": "3.13.0"
  }
 },
 "nbformat": 4,
 "nbformat_minor": 5
}
