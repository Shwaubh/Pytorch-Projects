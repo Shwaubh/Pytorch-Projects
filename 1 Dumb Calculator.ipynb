{
 "cells": [
  {
   "cell_type": "code",
   "execution_count": 3,
   "id": "83548dc0-9b0d-4943-9b61-dfc5bcbc7763",
   "metadata": {},
   "outputs": [],
   "source": [
    "import torch\n",
    "import torch.nn as nn\n",
    "import torch.optim as optim"
   ]
  },
  {
   "cell_type": "code",
   "execution_count": 4,
   "id": "d0faa4ee-f17b-47b6-9c71-e619a8ad9fea",
   "metadata": {},
   "outputs": [],
   "source": [
    "X = torch.tensor([ [1,2], [2,3], [3,4], [4,5] ], dtype=torch.float32)\n",
    "Y = torch.tensor([ [3], [5], [7], [9] ], dtype=torch.float32)"
   ]
  },
  {
   "cell_type": "code",
   "execution_count": 5,
   "id": "c25b9430-d6c3-472d-9a00-89ca27c840db",
   "metadata": {},
   "outputs": [],
   "source": [
    "class DumbCalculator(nn.Module):\n",
    "    def __init__(self):\n",
    "        super(DumbCalculator, self).__init__()\n",
    "        self.linear = nn.Linear(2, 1)\n",
    "\n",
    "    def forward(self, x):\n",
    "        return self.linear(x)\n",
    "\n",
    "model = DumbCalculator()"
   ]
  },
  {
   "cell_type": "code",
   "execution_count": 6,
   "id": "a2f6037b-c983-4b71-886e-8c2b4b4b486b",
   "metadata": {},
   "outputs": [],
   "source": [
    "loss = nn.MSELoss()\n",
    "optimizer = optim.SGD(model.parameters(), lr=0.01)"
   ]
  },
  {
   "cell_type": "code",
   "execution_count": 12,
   "id": "fd373841-ba59-4e65-bc89-223a958ca8f9",
   "metadata": {},
   "outputs": [
    {
     "name": "stdout",
     "output_type": "stream",
     "text": [
      " Epoch 0 -- Error/Loss - 6.065109482733533e-05\n",
      " Epoch 200 -- Error/Loss - 1.5308103684219532e-05\n",
      " Epoch 400 -- Error/Loss - 3.8637363104498945e-06\n",
      " Epoch 600 -- Error/Loss - 9.75431248662062e-07\n",
      " Epoch 800 -- Error/Loss - 2.464922772560385e-07\n"
     ]
    }
   ],
   "source": [
    "epoch = 1000\n",
    "for e in range(epoch):\n",
    "    optimizer.zero_grad()\n",
    "    output = model(X) # X -> 4,2\n",
    "    error = loss(output, Y)\n",
    "    error.backward()\n",
    "    optimizer.step()\n",
    "\n",
    "    if e % 200 == 0:\n",
    "        print(f' Epoch {e} -- Error/Loss - {error.item()}')"
   ]
  },
  {
   "cell_type": "code",
   "execution_count": 13,
   "id": "709e7141-ec15-4d92-a99e-7114a3dbcad7",
   "metadata": {},
   "outputs": [
    {
     "name": "stdout",
     "output_type": "stream",
     "text": [
      "Predictions : [[10.999555]\n",
      " [23.867561]\n",
      " [33.106476]]\n"
     ]
    }
   ],
   "source": [
    "with torch.no_grad():\n",
    "    test = torch.tensor( [ [5,6], [10, 15 ], [20, 10] ], dtype=torch.float32 )\n",
    "    predict = model(test)\n",
    "    print(f'Predictions : { predict.numpy() }')"
   ]
  },
  {
   "cell_type": "code",
   "execution_count": null,
   "id": "b09f8dfa-6ae0-4a44-8f23-b27655f0023b",
   "metadata": {},
   "outputs": [],
   "source": []
  }
 ],
 "metadata": {
  "kernelspec": {
   "display_name": "Python 3 (ipykernel)",
   "language": "python",
   "name": "python3"
  },
  "language_info": {
   "codemirror_mode": {
    "name": "ipython",
    "version": 3
   },
   "file_extension": ".py",
   "mimetype": "text/x-python",
   "name": "python",
   "nbconvert_exporter": "python",
   "pygments_lexer": "ipython3",
   "version": "3.13.0"
  }
 },
 "nbformat": 4,
 "nbformat_minor": 5
}
