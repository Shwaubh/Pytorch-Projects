{
 "cells": [
  {
   "cell_type": "markdown",
   "id": "b4a85200-98d5-474e-ba26-8681240fb2e3",
   "metadata": {},
   "source": [
    "# 📌 Linear Regression on a Real-World Dataset using PyTorch \n",
    "\n",
    "## 🎬 Introduction\n",
    "In this tutorial, we will build a **Linear Regression Model** using PyTorch on a real-world dataset. \n",
    "\n",
    "✅ We will cover:\n",
    "\n",
    "- Understanding Linear Regression\n",
    "- Loading and Preprocessing a Real-World Dataset\n",
    "- Defining the Model, Loss Function, and Optimizer\n",
    "- Training the Model\n",
    "- Evaluating Performance\n",
    "\n",
    "# 🏥 Predicting Diabetes Progression using Linear Regression in PyTorch\n",
    "\n",
    "\n",
    "By the end of this tutorial, you'll understand how PyTorch helps in training machine learning models effectively.\n",
    "\n",
    "---\n",
    "\n",
    "## 📖 What is Linear Regression?\n",
    "Linear Regression is one of the simplest machine learning models, used for **predicting a continuous value**. It assumes a linear relationship between input features (X) and output (Y):\n",
    "\n",
    "\\[ Y = mX + b \\]\n",
    "\n",
    "Where:\n",
    "- **Y** is the target/output variable\n",
    "- **X** is the input feature(s)\n",
    "- **m** is the slope (weight in ML terms)\n",
    "- **b** is the bias (intercept)\n",
    "\n",
    "Our goal is to find the best values of `m` and `b` so that the model accurately predicts `Y` for given values of `X`.\n",
    "\n",
    "---\n",
    "\n",
    "## 🛠 Step-by-Step Implementation\n",
    "\n",
    "\n"
   ]
  },
  {
   "cell_type": "markdown",
   "id": "b9ee6040-105b-431c-987f-9a68829ae454",
   "metadata": {},
   "source": [
    "### 1️⃣ Import Required Libraries\n",
    "\n",
    "### 🔍 Why These Libraries?\n",
    "- `torch` → Core PyTorch library  \n",
    "- `torch.nn` → Helps build the Linear Regression model  \n",
    "- `torch.optim` → Optimizers for training  \n",
    "- `numpy` → Handling numerical data  \n",
    "- `matplotlib.pyplot` → Visualizing dataset  \n",
    "- `sklearn.datasets` → Provides the **Diabetes dataset**  \n",
    "- `sklearn.model_selection` → Splits data into train & test  \n",
    "- `sklearn.preprocessing` → Scales data for better training  \n"
   ]
  },
  {
   "cell_type": "code",
   "execution_count": 156,
   "id": "968ce199-8ac4-4254-9648-fa4105d9e418",
   "metadata": {},
   "outputs": [],
   "source": [
    "import torch\n",
    "import torch.nn as nn\n",
    "import torch.optim as optim\n",
    "import numpy as np\n",
    "import matplotlib.pyplot as plt\n",
    "from sklearn.datasets import load_diabetes\n",
    "from sklearn.model_selection import train_test_split\n",
    "from sklearn.preprocessing import StandardScaler"
   ]
  },
  {
   "cell_type": "markdown",
   "id": "b345a87d-48a6-4738-a7c9-e0e9b3cb1839",
   "metadata": {},
   "source": [
    "### 2️⃣ Load and Preprocess Dataset\n",
    "\n",
    "- **442** samples, **10** medical predictor variables (BMI, age, blood pressure, etc.).\n",
    "- **Target:** A measure of diabetes progression (numerical value).\n",
    "- Our goal? **Predict diabetes progression using patient data**.\n"
   ]
  },
  {
   "cell_type": "markdown",
   "id": "c08807eb-2660-42ac-8712-870ee0c2d699",
   "metadata": {
    "jp-MarkdownHeadingCollapsed": true
   },
   "source": [
    "#### We extract features (X) and target (Y)"
   ]
  },
  {
   "cell_type": "markdown",
   "id": "9f0a43dd-401d-4cfa-9efd-f2ea41ad6cb8",
   "metadata": {},
   "source": [
    "#### Splitting into training and testing sets"
   ]
  },
  {
   "cell_type": "markdown",
   "id": "e3c5248f-f989-431c-8d94-8c45c192591d",
   "metadata": {},
   "source": [
    "#### Standardizing the features (important for stable training!)"
   ]
  },
  {
   "cell_type": "markdown",
   "id": "030cc442-186d-4764-b0f2-960ae77578d0",
   "metadata": {},
   "source": [
    "#### Converting to PyTorch tensors"
   ]
  },
  {
   "cell_type": "code",
   "execution_count": 206,
   "id": "cb8f71b2-4f53-410b-8030-b120973feb4f",
   "metadata": {},
   "outputs": [
    {
     "name": "stdout",
     "output_type": "stream",
     "text": [
      "(442, 10)\n",
      "(442,)\n"
     ]
    }
   ],
   "source": [
    "diabetes = load_diabetes()\n",
    "X = diabetes.data\n",
    "y = diabetes.target\n",
    "print(X.shape)\n",
    "print(y.shape)\n",
    "\n",
    "X_train, X_test , y_train, y_test = train_test_split(X, y, test_size = 0.2, random_state = 42)\n",
    "\n",
    "scaler = StandardScaler()\n",
    "X_train_scaled = scaler.fit_transform(X_train)\n",
    "X_test_scaled = scaler.transform(X_test)\n",
    "\n",
    "X_train_tensor = torch.tensor(X_train_scaled, dtype=torch.float32)\n",
    "X_test_tensor = torch.tensor(X_test_scaled, dtype=torch.float32)\n",
    "y_train_tensor = torch.tensor(y_train, dtype=torch.float32).view(-1, 1)\n",
    "y_test_tensor = torch.tensor(y_test, dtype=torch.float32).view(-1, 1)"
   ]
  },
  {
   "cell_type": "markdown",
   "id": "721c84a1-541e-4408-9ca8-0070aec3b956",
   "metadata": {},
   "source": [
    "## 🛠 Why Split & Normalize Data?\n",
    "✅ **Splitting ensures** model generalization.  \n",
    "✅ **Normalization speeds up** training & improves accuracy.  \n",
    "✅ **Converting to tensors** allows PyTorch to process data efficiently.\n"
   ]
  },
  {
   "cell_type": "markdown",
   "id": "d69ce909-329c-403e-adf5-0f4b1daffd44",
   "metadata": {},
   "source": [
    "### 3️⃣ Define the Linear Regression Model\n",
    "**Initialize model**\n",
    "\n",
    "## 🤖 Understanding the Model\n",
    "- **10 Inputs** → One for each feature in the Diabetes dataset.\n",
    "- **1 Output** → The predicted diabetes progression score.\n",
    "- The model learns a **linear relationship** between input features and output."
   ]
  },
  {
   "cell_type": "code",
   "execution_count": 207,
   "id": "77872f0a-c1ce-44fd-a4d6-165f6795ea70",
   "metadata": {},
   "outputs": [],
   "source": [
    "class LinearRegressionModel(nn.Module):\n",
    "    def __init__(self):\n",
    "        super(LinearRegressionModel, self).__init__()\n",
    "        self.linear = nn.Linear(10, 1)\n",
    "        \n",
    "    def forward(self, x):\n",
    "        return self.linear(x)\n",
    "\n",
    "model = LinearRegressionModel()"
   ]
  },
  {
   "cell_type": "markdown",
   "id": "940f8e90-4cd5-4ba4-8dca-1852c086bf92",
   "metadata": {},
   "source": [
    "### 4️⃣ Define Loss Function and Optimizer\n",
    "We use **Mean Squared Error (MSE) Loss** and **Stochastic Gradient Descent (SGD) Optimizer**:\n",
    "\n",
    "## 📌 Why MSE Loss & SGD?\n",
    "- **MSE Loss** → Measures how far predictions are from actual values.  \n",
    "- **SGD Optimizer** → Updates model weights based on errors.  \n",
    "- **Learning Rate = 0.01** → Determines how fast the model learns.  "
   ]
  },
  {
   "cell_type": "code",
   "execution_count": 208,
   "id": "92e550f3-0b75-49bd-ae34-a4fea3f268f3",
   "metadata": {},
   "outputs": [],
   "source": [
    "loss = nn.MSELoss()\n",
    "optimizer = optim.SGD(model.parameters(), lr=0.01)"
   ]
  },
  {
   "cell_type": "markdown",
   "id": "9ea21240-b5c1-43cf-8b17-362f6e48153e",
   "metadata": {},
   "source": [
    "### 5️⃣ Training the Model"
   ]
  },
  {
   "cell_type": "code",
   "execution_count": 210,
   "id": "aa85cbb1-0d6f-4bab-8cbc-1e8541305556",
   "metadata": {},
   "outputs": [
    {
     "name": "stdout",
     "output_type": "stream",
     "text": [
      "Epoch 0 -- loss/error : 2873.53125\n",
      "Epoch 1000 -- loss/error : 2871.99267578125\n",
      "Epoch 2000 -- loss/error : 2870.929443359375\n",
      "Epoch 3000 -- loss/error : 2870.19482421875\n",
      "Epoch 4000 -- loss/error : 2869.6865234375\n"
     ]
    }
   ],
   "source": [
    "epoch = 5000\n",
    "for e in range(epoch):\n",
    "    y_pred = model(X_train_tensor)\n",
    "    error = loss(y_pred, y_train_tensor)\n",
    "    optimizer.zero_grad()\n",
    "    error.backward()\n",
    "    optimizer.step()\n",
    "\n",
    "    if e%1000 == 0:\n",
    "        print(f\"Epoch {e} -- loss/error : {error.item()}\")"
   ]
  },
  {
   "cell_type": "markdown",
   "id": "f9006e63-f3aa-4f9b-ab72-691a238789d2",
   "metadata": {},
   "source": [
    "## 🔄 How Training Works\n",
    "1️⃣ **Forward Pass:** Model makes a prediction.  \n",
    "2️⃣ **Calculate Loss:** Measures prediction error.  \n",
    "3️⃣ **Backward Pass:** Computes gradients for each weight.  \n",
    "4️⃣ **Update Weights:** Optimizer adjusts weights to minimize loss.  \n",
    "5️⃣ **Repeat!** 🚀  \n"
   ]
  },
  {
   "cell_type": "markdown",
   "id": "8deb493b-396b-499f-bc39-3bfb88479e6d",
   "metadata": {},
   "source": [
    "### 6️⃣ Evaluating the Model"
   ]
  },
  {
   "cell_type": "markdown",
   "id": "d05f1129-f2b7-4ec5-990f-bcc0316370f7",
   "metadata": {},
   "source": [
    "#### Plot predictions vs. actual values:"
   ]
  },
  {
   "cell_type": "code",
   "execution_count": 212,
   "id": "3b56b95b-37cc-4ec7-8a57-e88ff52661cc",
   "metadata": {},
   "outputs": [
    {
     "data": {
      "image/png": "[encoded data removed]",
      "text/plain": [
       "<Figure size 640x480 with 1 Axes>"
      ]
     },
     "metadata": {},
     "output_type": "display_data"
    }
   ],
   "source": [
    "with torch.no_grad():\n",
    "    y_test_pred = model(X_test_tensor)\n",
    "\n",
    "y_test_pred = y_test_pred.numpy()\n",
    "\n",
    "plt.scatter(y_test, y_test_pred, color=\"green\", label='Predictions')\n",
    "plt.plot([y_test.min(), y_test.max()], [y_test.min(), y_test.max()], label=\"Perfect Fit\")\n",
    "plt.xlabel(\" Actual Diabetes Progression \")\n",
    "plt.ylabel(\" Predicted Diabetes Progression \")\n",
    "plt.legend()\n",
    "plt.show()"
   ]
  },
  {
   "cell_type": "markdown",
   "id": "bda51aec-1dc2-4a16-bbd4-dae75925ce9b",
   "metadata": {
    "jp-MarkdownHeadingCollapsed": true
   },
   "source": [
    "# 🎉 Conclusion\n",
    "Congratulations! You've successfully built a **Linear Regression Model** using **PyTorch** to predict **diabetes progression**. \n",
    "\n",
    "## ✅ What You Learned:\n",
    "✔️ Loading real-world data  \n",
    "✔️ Splitting & normalizing data  \n",
    "✔️ Implementing **Linear Regression** in PyTorch  \n",
    "✔️ Training with **loss function & optimizer**  \n",
    "✔️ Visualizing & evaluating the model  \n",
    "\n",
    "🚀 **Next Project? Stay tuned for Project #3!**\n"
   ]
  }
 ],
 "metadata": {
  "kernelspec": {
   "display_name": "Python 3 (ipykernel)",
   "language": "python",
   "name": "python3"
  },
  "language_info": {
   "codemirror_mode": {
    "name": "ipython",
    "version": 3
   },
   "file_extension": ".py",
   "mimetype": "text/x-python",
   "name": "python",
   "nbconvert_exporter": "python",
   "pygments_lexer": "ipython3",
   "version": "3.13.0"
  }
 },
 "nbformat": 4,
 "nbformat_minor": 5
}
